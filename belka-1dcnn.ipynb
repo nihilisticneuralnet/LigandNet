{
 "cells": [
  {
   "cell_type": "markdown",
   "id": "115d35c8",
   "metadata": {
    "papermill": {
     "duration": 0.005433,
     "end_time": "2024-07-08T21:10:28.682511",
     "exception": false,
     "start_time": "2024-07-08T21:10:28.677078",
     "status": "completed"
    },
    "tags": []
   },
   "source": [
    "# Initialization\n",
    "\n",
    "This notebook is forked and inspired from the [BELKA 1DCNN Starter](https://www.kaggle.com/code/ahmedelfazouan/belka-1dcnn-starter-with-all-data/notebook).\n",
    "\n",
    "This original notebook attempted to encoded the smiles of all the train & test set and saved it locally, this may take up to 1 hour on TPU for each fold. While the original notebook only utilize one fold, there are only 1 fold training, due to the limit of computational power. Therefore, I pre-tained one model for each fold and store the model weights locally so that the prediction results could be combined to make better LB score. The models are stored [here](https://www.kaggle.com/datasets/hugowjd/1dcnn-models-for-belka-competition).\n",
    "\n",
    "The encoded data is stored [here](https://www.kaggle.com/datasets/ahmedelfazouan/belka-enc-dataset) , \n",
    "\n",
    "How to improve :\n",
    "* Change the fold size (better machine may deal with smaller fold number)\n",
    "* Try another model like Transformer, or LSTM.\n",
    "* Train for more epochs for each folds.\n",
    "* Add more features like a one hot encoding of bb2 or bb3.\n",
    "* And of ensembling with other models.\n",
    "\n"
   ]
  },
  {
   "cell_type": "code",
   "execution_count": 1,
   "id": "c202f635",
   "metadata": {
    "execution": {
     "iopub.execute_input": "2024-07-08T21:10:28.692907Z",
     "iopub.status.busy": "2024-07-08T21:10:28.692599Z",
     "iopub.status.idle": "2024-07-08T21:10:29.860872Z",
     "shell.execute_reply": "2024-07-08T21:10:29.860177Z"
    },
    "papermill": {
     "duration": 1.175946,
     "end_time": "2024-07-08T21:10:29.862981",
     "exception": false,
     "start_time": "2024-07-08T21:10:28.687035",
     "status": "completed"
    },
    "tags": []
   },
   "outputs": [
    {
     "name": "stdout",
     "output_type": "stream",
     "text": [
      "/kaggle/input/1dcnn-models-for-belka-competition/model-21.h5\n",
      "/kaggle/input/1dcnn-models-for-belka-competition/model-19.h5\n",
      "/kaggle/input/1dcnn-models-for-belka-competition/model-1.h5\n",
      "/kaggle/input/1dcnn-models-for-belka-competition/model-24.h5\n",
      "/kaggle/input/1dcnn-models-for-belka-competition/model-12.h5\n",
      "/kaggle/input/1dcnn-models-for-belka-competition/model-9.h5\n",
      "/kaggle/input/1dcnn-models-for-belka-competition/model-2.h5\n",
      "/kaggle/input/1dcnn-models-for-belka-competition/model-13.h5\n",
      "/kaggle/input/1dcnn-models-for-belka-competition/model-26.h5\n",
      "/kaggle/input/1dcnn-models-for-belka-competition/model-25.h5\n",
      "/kaggle/input/1dcnn-models-for-belka-competition/model-4.h5\n",
      "/kaggle/input/1dcnn-models-for-belka-competition/model-22.h5\n",
      "/kaggle/input/1dcnn-models-for-belka-competition/model-29.h5\n",
      "/kaggle/input/1dcnn-models-for-belka-competition/model-15.h5\n",
      "/kaggle/input/1dcnn-models-for-belka-competition/model-7.h5\n",
      "/kaggle/input/1dcnn-models-for-belka-competition/model-0.h5\n",
      "/kaggle/input/1dcnn-models-for-belka-competition/model-14.h5\n",
      "/kaggle/input/1dcnn-models-for-belka-competition/model-11.h5\n",
      "/kaggle/input/1dcnn-models-for-belka-competition/model-8.h5\n",
      "/kaggle/input/1dcnn-models-for-belka-competition/model-10.h5\n",
      "/kaggle/input/1dcnn-models-for-belka-competition/model-27.h5\n",
      "/kaggle/input/1dcnn-models-for-belka-competition/model-20.h5\n",
      "/kaggle/input/1dcnn-models-for-belka-competition/model-18.h5\n",
      "/kaggle/input/1dcnn-models-for-belka-competition/model-3.h5\n",
      "/kaggle/input/1dcnn-models-for-belka-competition/model-5.h5\n",
      "/kaggle/input/1dcnn-models-for-belka-competition/model-16.h5\n",
      "/kaggle/input/1dcnn-models-for-belka-competition/model-6.h5\n",
      "/kaggle/input/1dcnn-models-for-belka-competition/model-28.h5\n",
      "/kaggle/input/1dcnn-models-for-belka-competition/model-17.h5\n",
      "/kaggle/input/1dcnn-models-for-belka-competition/model-23.h5\n"
     ]
    }
   ],
   "source": [
    "# This Python 3 environment comes with many helpful analytics libraries installed\n",
    "# It is defined by the kaggle/python Docker image: https://github.com/kaggle/docker-python\n",
    "# For example, here's several helpful packages to load\n",
    "\n",
    "import numpy as np # linear algebra\n",
    "import pandas as pd # data processing, CSV file I/O (e.g. pd.read_csv)\n",
    "\n",
    "# Input data files are available in the read-only \"../input/\" directory\n",
    "# For example, running this (by clicking run or pressing Shift+Enter) will list all files under the input directory\n",
    "\n",
    "import os\n",
    "for dirname, _, filenames in os.walk('/kaggle/input/1dcnn-models-for-belka-competition'):\n",
    "    for filename in filenames:\n",
    "        print(os.path.join(dirname, filename))\n",
    "\n",
    "# You can write up to 20GB to the current directory (/kaggle/working/) that gets preserved as output when you create a version using \"Save & Run All\" \n",
    "# You can also write temporary files to /kaggle/temp/, but they won't be saved outside of the current session"
   ]
  },
  {
   "cell_type": "code",
   "execution_count": 2,
   "id": "6b8e09c7",
   "metadata": {
    "_kg_hide-input": true,
    "_kg_hide-output": true,
    "execution": {
     "iopub.execute_input": "2024-07-08T21:10:29.873323Z",
     "iopub.status.busy": "2024-07-08T21:10:29.872949Z",
     "iopub.status.idle": "2024-07-08T21:10:35.571900Z",
     "shell.execute_reply": "2024-07-08T21:10:35.570876Z"
    },
    "papermill": {
     "duration": 5.706962,
     "end_time": "2024-07-08T21:10:35.574658",
     "exception": false,
     "start_time": "2024-07-08T21:10:29.867696",
     "status": "completed"
    },
    "tags": []
   },
   "outputs": [
    {
     "name": "stdout",
     "output_type": "stream",
     "text": [
      "\u001b[33mWARNING: Running pip as the 'root' user can result in broken permissions and conflicting behaviour with the system package manager. It is recommended to use a virtual environment instead: https://pip.pypa.io/warnings/venv\u001b[0m\u001b[33m\r\n",
      "\u001b[0m\r\n",
      "\u001b[1m[\u001b[0m\u001b[34;49mnotice\u001b[0m\u001b[1;39;49m]\u001b[0m\u001b[39;49m A new release of pip is available: \u001b[0m\u001b[31;49m23.0.1\u001b[0m\u001b[39;49m -> \u001b[0m\u001b[32;49m24.1.2\u001b[0m\r\n",
      "\u001b[1m[\u001b[0m\u001b[34;49mnotice\u001b[0m\u001b[1;39;49m]\u001b[0m\u001b[39;49m To update, run: \u001b[0m\u001b[32;49mpip install --upgrade pip\u001b[0m\r\n"
     ]
    }
   ],
   "source": [
    "!pip install fastparquet -q"
   ]
  },
  {
   "cell_type": "code",
   "execution_count": 3,
   "id": "03f6ca6e",
   "metadata": {
    "_cell_guid": "b1076dfc-b9ad-4769-8c92-a6c4dae69d19",
    "_uuid": "8f2839f25d086af736a60e9eeb907d3b93b6e0e5",
    "execution": {
     "iopub.execute_input": "2024-07-08T21:10:35.586757Z",
     "iopub.status.busy": "2024-07-08T21:10:35.585961Z",
     "iopub.status.idle": "2024-07-08T21:10:38.361154Z",
     "shell.execute_reply": "2024-07-08T21:10:38.360192Z"
    },
    "papermill": {
     "duration": 2.784019,
     "end_time": "2024-07-08T21:10:38.363596",
     "exception": false,
     "start_time": "2024-07-08T21:10:35.579577",
     "status": "completed"
    },
    "tags": []
   },
   "outputs": [],
   "source": [
    "import gc\n",
    "import os\n",
    "import pickle\n",
    "import random\n",
    "import joblib\n",
    "import numpy as np\n",
    "import pandas as pd\n",
    "from tqdm import tqdm\n",
    "from sklearn.model_selection import StratifiedKFold\n",
    "from sklearn.metrics import average_precision_score as APS\n",
    "import matplotlib.pyplot as plt"
   ]
  },
  {
   "cell_type": "code",
   "execution_count": 4,
   "id": "b85a1df2",
   "metadata": {
    "execution": {
     "iopub.execute_input": "2024-07-08T21:10:38.375981Z",
     "iopub.status.busy": "2024-07-08T21:10:38.375153Z",
     "iopub.status.idle": "2024-07-08T21:10:38.380297Z",
     "shell.execute_reply": "2024-07-08T21:10:38.379592Z"
    },
    "papermill": {
     "duration": 0.013203,
     "end_time": "2024-07-08T21:10:38.381984",
     "exception": false,
     "start_time": "2024-07-08T21:10:38.368781",
     "status": "completed"
    },
    "tags": []
   },
   "outputs": [],
   "source": [
    "class CFG:\n",
    "\n",
    "    PREPROCESS = False\n",
    "    PRETRAINED = True   # True -> use already trained model weights / False -> train new weights\n",
    "    EPOCHS = 25\n",
    "    BATCH_SIZE = 4096\n",
    "    LR = 1e-3\n",
    "    WD = 0.05\n",
    "    # Number of folds\n",
    "    NBR_FOLDS = 15\n",
    "\n",
    "    # Only the first fold selected\n",
    "    SELECTED_FOLDS = [10,11,12,13,14]\n",
    "    EXIST_MODELS = range(15,30)\n",
    "\n",
    "    SEED = 2222"
   ]
  },
  {
   "cell_type": "code",
   "execution_count": 5,
   "id": "7af021e0",
   "metadata": {
    "_kg_hide-output": true,
    "collapsed": true,
    "execution": {
     "iopub.execute_input": "2024-07-08T21:10:38.392363Z",
     "iopub.status.busy": "2024-07-08T21:10:38.391910Z",
     "iopub.status.idle": "2024-07-08T21:11:16.648827Z",
     "shell.execute_reply": "2024-07-08T21:11:16.648079Z"
    },
    "jupyter": {
     "outputs_hidden": true
    },
    "papermill": {
     "duration": 38.264486,
     "end_time": "2024-07-08T21:11:16.651229",
     "exception": false,
     "start_time": "2024-07-08T21:10:38.386743",
     "status": "completed"
    },
    "tags": []
   },
   "outputs": [
    {
     "name": "stderr",
     "output_type": "stream",
     "text": [
      "D0708 21:11:09.526840342      14 config.cc:119]                        gRPC EXPERIMENT tcp_frame_size_tuning               OFF (default:OFF)\n",
      "D0708 21:11:09.526868843      14 config.cc:119]                        gRPC EXPERIMENT tcp_rcv_lowat                       OFF (default:OFF)\n",
      "D0708 21:11:09.526872918      14 config.cc:119]                        gRPC EXPERIMENT peer_state_based_framing            OFF (default:OFF)\n",
      "D0708 21:11:09.526875933      14 config.cc:119]                        gRPC EXPERIMENT flow_control_fixes                  ON  (default:ON)\n",
      "D0708 21:11:09.526878926      14 config.cc:119]                        gRPC EXPERIMENT memory_pressure_controller          OFF (default:OFF)\n",
      "D0708 21:11:09.526881940      14 config.cc:119]                        gRPC EXPERIMENT unconstrained_max_quota_buffer_size OFF (default:OFF)\n",
      "D0708 21:11:09.526884721      14 config.cc:119]                        gRPC EXPERIMENT new_hpack_huffman_decoder           ON  (default:ON)\n",
      "D0708 21:11:09.526887411      14 config.cc:119]                        gRPC EXPERIMENT event_engine_client                 OFF (default:OFF)\n",
      "D0708 21:11:09.526890050      14 config.cc:119]                        gRPC EXPERIMENT monitoring_experiment               ON  (default:ON)\n",
      "D0708 21:11:09.526892883      14 config.cc:119]                        gRPC EXPERIMENT promise_based_client_call           OFF (default:OFF)\n",
      "D0708 21:11:09.526895795      14 config.cc:119]                        gRPC EXPERIMENT free_large_allocator                OFF (default:OFF)\n",
      "D0708 21:11:09.526898546      14 config.cc:119]                        gRPC EXPERIMENT promise_based_server_call           OFF (default:OFF)\n",
      "D0708 21:11:09.526901442      14 config.cc:119]                        gRPC EXPERIMENT transport_supplies_client_latency   OFF (default:OFF)\n",
      "D0708 21:11:09.526904409      14 config.cc:119]                        gRPC EXPERIMENT event_engine_listener               OFF (default:OFF)\n",
      "I0708 21:11:09.527198293      14 ev_epoll1_linux.cc:122]               grpc epoll fd: 59\n",
      "D0708 21:11:09.527213359      14 ev_posix.cc:144]                      Using polling engine: epoll1\n",
      "D0708 21:11:09.527237820      14 dns_resolver_ares.cc:822]             Using ares dns resolver\n",
      "D0708 21:11:09.527756417      14 lb_policy_registry.cc:46]             registering LB policy factory for \"priority_experimental\"\n",
      "D0708 21:11:09.527768318      14 lb_policy_registry.cc:46]             registering LB policy factory for \"outlier_detection_experimental\"\n",
      "D0708 21:11:09.527771696      14 lb_policy_registry.cc:46]             registering LB policy factory for \"weighted_target_experimental\"\n",
      "D0708 21:11:09.527774863      14 lb_policy_registry.cc:46]             registering LB policy factory for \"pick_first\"\n",
      "D0708 21:11:09.527777634      14 lb_policy_registry.cc:46]             registering LB policy factory for \"round_robin\"\n",
      "D0708 21:11:09.527780451      14 lb_policy_registry.cc:46]             registering LB policy factory for \"weighted_round_robin_experimental\"\n",
      "D0708 21:11:09.527788077      14 lb_policy_registry.cc:46]             registering LB policy factory for \"ring_hash_experimental\"\n",
      "D0708 21:11:09.527808273      14 lb_policy_registry.cc:46]             registering LB policy factory for \"grpclb\"\n",
      "D0708 21:11:09.527836129      14 lb_policy_registry.cc:46]             registering LB policy factory for \"rls_experimental\"\n",
      "D0708 21:11:09.527851230      14 lb_policy_registry.cc:46]             registering LB policy factory for \"xds_cluster_manager_experimental\"\n",
      "D0708 21:11:09.527854534      14 lb_policy_registry.cc:46]             registering LB policy factory for \"xds_cluster_impl_experimental\"\n",
      "D0708 21:11:09.527857766      14 lb_policy_registry.cc:46]             registering LB policy factory for \"cds_experimental\"\n",
      "D0708 21:11:09.527864919      14 lb_policy_registry.cc:46]             registering LB policy factory for \"xds_cluster_resolver_experimental\"\n",
      "D0708 21:11:09.527868377      14 lb_policy_registry.cc:46]             registering LB policy factory for \"xds_override_host_experimental\"\n",
      "D0708 21:11:09.527871336      14 lb_policy_registry.cc:46]             registering LB policy factory for \"xds_wrr_locality_experimental\"\n",
      "D0708 21:11:09.527875509      14 certificate_provider_registry.cc:35]  registering certificate provider factory for \"file_watcher\"\n",
      "I0708 21:11:09.531653056      14 socket_utils_common_posix.cc:408]     Disabling AF_INET6 sockets because ::1 is not available.\n",
      "I0708 21:11:09.564849850      14 socket_utils_common_posix.cc:337]     TCP_USER_TIMEOUT is available. TCP_USER_TIMEOUT will be used thereafter\n",
      "E0708 21:11:09.570590720      14 oauth2_credentials.cc:236]            oauth_fetch: UNKNOWN:C-ares status is not ARES_SUCCESS qtype=A name=metadata.google.internal. is_balancer=0: Domain name not found {created_time:\"2024-07-08T21:11:09.570574778+00:00\", grpc_status:2}\n"
     ]
    }
   ],
   "source": [
    "import tensorflow as tf\n",
    "def set_seeds(seed):\n",
    "    os.environ['PYTHONHASHSEED'] = str(seed)\n",
    "    random.seed(seed)\n",
    "    tf.random.set_seed(seed)\n",
    "    np.random.seed(seed)\n",
    "\n",
    "set_seeds(seed=CFG.SEED)"
   ]
  },
  {
   "cell_type": "code",
   "execution_count": 6,
   "id": "b4c5a0e6",
   "metadata": {
    "execution": {
     "iopub.execute_input": "2024-07-08T21:11:16.662259Z",
     "iopub.status.busy": "2024-07-08T21:11:16.661789Z",
     "iopub.status.idle": "2024-07-08T21:11:25.360153Z",
     "shell.execute_reply": "2024-07-08T21:11:25.359262Z"
    },
    "jupyter": {
     "source_hidden": true
    },
    "papermill": {
     "duration": 8.70691,
     "end_time": "2024-07-08T21:11:25.362839",
     "exception": false,
     "start_time": "2024-07-08T21:11:16.655929",
     "status": "completed"
    },
    "tags": []
   },
   "outputs": [
    {
     "name": "stdout",
     "output_type": "stream",
     "text": [
      "INFO:tensorflow:Deallocate tpu buffers before initializing tpu system.\n",
      "INFO:tensorflow:Initializing the TPU system: local\n",
      "INFO:tensorflow:Finished initializing TPU system.\n",
      "INFO:tensorflow:Found TPU system:\n",
      "INFO:tensorflow:*** Num TPU Cores: 8\n",
      "INFO:tensorflow:*** Num TPU Workers: 1\n",
      "INFO:tensorflow:*** Num TPU Cores Per Worker: 8\n",
      "INFO:tensorflow:*** Available Device: _DeviceAttributes(/job:localhost/replica:0/task:0/device:CPU:0, CPU, 0, 0)\n",
      "INFO:tensorflow:*** Available Device: _DeviceAttributes(/job:localhost/replica:0/task:0/device:TPU:0, TPU, 0, 0)\n",
      "INFO:tensorflow:*** Available Device: _DeviceAttributes(/job:localhost/replica:0/task:0/device:TPU:1, TPU, 0, 0)\n",
      "INFO:tensorflow:*** Available Device: _DeviceAttributes(/job:localhost/replica:0/task:0/device:TPU:2, TPU, 0, 0)\n",
      "INFO:tensorflow:*** Available Device: _DeviceAttributes(/job:localhost/replica:0/task:0/device:TPU:3, TPU, 0, 0)\n",
      "INFO:tensorflow:*** Available Device: _DeviceAttributes(/job:localhost/replica:0/task:0/device:TPU:4, TPU, 0, 0)\n",
      "INFO:tensorflow:*** Available Device: _DeviceAttributes(/job:localhost/replica:0/task:0/device:TPU:5, TPU, 0, 0)\n",
      "INFO:tensorflow:*** Available Device: _DeviceAttributes(/job:localhost/replica:0/task:0/device:TPU:6, TPU, 0, 0)\n",
      "INFO:tensorflow:*** Available Device: _DeviceAttributes(/job:localhost/replica:0/task:0/device:TPU:7, TPU, 0, 0)\n",
      "INFO:tensorflow:*** Available Device: _DeviceAttributes(/job:localhost/replica:0/task:0/device:TPU_SYSTEM:0, TPU_SYSTEM, 0, 0)\n",
      "Running on TPU\n",
      "REPLICAS:  8\n"
     ]
    }
   ],
   "source": [
    "import tensorflow as tf\n",
    "\n",
    "# Detect hardware, return appropriate distribution strategy\n",
    "try:\n",
    "    tpu = tf.distribute.cluster_resolver.TPUClusterResolver.connect(tpu=\"local\") # \"local\" for 1VM TPU\n",
    "    strategy = tf.distribute.TPUStrategy(tpu)\n",
    "    print(\"Running on TPU\")\n",
    "    print(\"REPLICAS: \", strategy.num_replicas_in_sync)\n",
    "except tf.errors.NotFoundError:\n",
    "    print(\"Not on TPU\")"
   ]
  },
  {
   "cell_type": "markdown",
   "id": "d0e62409",
   "metadata": {
    "papermill": {
     "duration": 0.005693,
     "end_time": "2024-07-08T21:11:25.374785",
     "exception": false,
     "start_time": "2024-07-08T21:11:25.369092",
     "status": "completed"
    },
    "tags": []
   },
   "source": [
    "# Preprocessing"
   ]
  },
  {
   "cell_type": "code",
   "execution_count": 7,
   "id": "ae041924",
   "metadata": {
    "execution": {
     "iopub.execute_input": "2024-07-08T21:11:25.387287Z",
     "iopub.status.busy": "2024-07-08T21:11:25.386980Z",
     "iopub.status.idle": "2024-07-08T21:13:13.697401Z",
     "shell.execute_reply": "2024-07-08T21:13:13.696402Z"
    },
    "papermill": {
     "duration": 108.319268,
     "end_time": "2024-07-08T21:13:13.699880",
     "exception": false,
     "start_time": "2024-07-08T21:11:25.380612",
     "status": "completed"
    },
    "tags": []
   },
   "outputs": [],
   "source": [
    "if CFG.PREPROCESS:\n",
    "    enc = {'l': 1, 'y': 2, '@': 3, '3': 4, 'H': 5, 'S': 6, 'F': 7, 'C': 8, 'r': 9, 's': 10, '/': 11, 'c': 12, 'o': 13,\n",
    "           '+': 14, 'I': 15, '5': 16, '(': 17, '2': 18, ')': 19, '9': 20, 'i': 21, '#': 22, '6': 23, '8': 24, '4': 25, '=': 26,\n",
    "           '1': 27, 'O': 28, '[': 29, 'D': 30, 'B': 31, ']': 32, 'N': 33, '7': 34, 'n': 35, '-': 36}\n",
    "    train_raw = pd.read_parquet('/kaggle/input/leash-BELKA/train.parquet')\n",
    "    smiles = train_raw[train_raw['protein_name']=='BRD4']['molecule_smiles'].values\n",
    "    assert (smiles!=train_raw[train_raw['protein_name']=='HSA']['molecule_smiles'].values).sum() == 0\n",
    "    assert (smiles!=train_raw[train_raw['protein_name']=='sEH']['molecule_smiles'].values).sum() == 0\n",
    "    def encode_smile(smile):\n",
    "        tmp = [enc[i] for i in smile]\n",
    "        tmp = tmp + [0]*(142-len(tmp))\n",
    "        return np.array(tmp).astype(np.uint8)\n",
    "\n",
    "    smiles_enc = joblib.Parallel(n_jobs=96)(joblib.delayed(encode_smile)(smile) for smile in tqdm(smiles))\n",
    "    smiles_enc = np.stack(smiles_enc)\n",
    "    train = pd.DataFrame(smiles_enc, columns = [f'enc{i}' for i in range(142)])\n",
    "    train['bind1'] = train_raw[train_raw['protein_name']=='BRD4']['binds'].values\n",
    "    train['bind2'] = train_raw[train_raw['protein_name']=='HSA']['binds'].values\n",
    "    train['bind3'] = train_raw[train_raw['protein_name']=='sEH']['binds'].values\n",
    "    train.to_parquet('train_enc.parquet')\n",
    "\n",
    "    test_raw = pd.read_parquet('/kaggle/input/leash-BELKA/test.parquet')\n",
    "    smiles = test_raw['molecule_smiles'].values\n",
    "\n",
    "    smiles_enc = joblib.Parallel(n_jobs=96)(joblib.delayed(encode_smile)(smile) for smile in tqdm(smiles))\n",
    "    smiles_enc = np.stack(smiles_enc)\n",
    "    test = pd.DataFrame(smiles_enc, columns = [f'enc{i}' for i in range(142)])\n",
    "    test.to_parquet('test_enc.parquet')\n",
    "\n",
    "else:\n",
    "    train = pd.read_parquet('/kaggle/input/belka-enc-dataset/train_enc.parquet')\n",
    "    test = pd.read_parquet('/kaggle/input/belka-enc-dataset/test_enc.parquet')"
   ]
  },
  {
   "cell_type": "code",
   "execution_count": 8,
   "id": "a0f22cd5",
   "metadata": {
    "execution": {
     "iopub.execute_input": "2024-07-08T21:13:13.713643Z",
     "iopub.status.busy": "2024-07-08T21:13:13.713166Z",
     "iopub.status.idle": "2024-07-08T21:13:13.734882Z",
     "shell.execute_reply": "2024-07-08T21:13:13.734075Z"
    },
    "papermill": {
     "duration": 0.030338,
     "end_time": "2024-07-08T21:13:13.736702",
     "exception": false,
     "start_time": "2024-07-08T21:13:13.706364",
     "status": "completed"
    },
    "tags": []
   },
   "outputs": [
    {
     "name": "stdout",
     "output_type": "stream",
     "text": [
      "Shape of Train set: (98415610, 145)\n"
     ]
    },
    {
     "data": {
      "text/html": [
       "<div>\n",
       "<style scoped>\n",
       "    .dataframe tbody tr th:only-of-type {\n",
       "        vertical-align: middle;\n",
       "    }\n",
       "\n",
       "    .dataframe tbody tr th {\n",
       "        vertical-align: top;\n",
       "    }\n",
       "\n",
       "    .dataframe thead th {\n",
       "        text-align: right;\n",
       "    }\n",
       "</style>\n",
       "<table border=\"1\" class=\"dataframe\">\n",
       "  <thead>\n",
       "    <tr style=\"text-align: right;\">\n",
       "      <th></th>\n",
       "      <th>enc0</th>\n",
       "      <th>enc1</th>\n",
       "      <th>enc2</th>\n",
       "      <th>enc3</th>\n",
       "      <th>enc4</th>\n",
       "      <th>enc5</th>\n",
       "      <th>enc6</th>\n",
       "      <th>enc7</th>\n",
       "      <th>enc8</th>\n",
       "      <th>enc9</th>\n",
       "      <th>...</th>\n",
       "      <th>enc135</th>\n",
       "      <th>enc136</th>\n",
       "      <th>enc137</th>\n",
       "      <th>enc138</th>\n",
       "      <th>enc139</th>\n",
       "      <th>enc140</th>\n",
       "      <th>enc141</th>\n",
       "      <th>bind1</th>\n",
       "      <th>bind2</th>\n",
       "      <th>bind3</th>\n",
       "    </tr>\n",
       "  </thead>\n",
       "  <tbody>\n",
       "    <tr>\n",
       "      <th>0</th>\n",
       "      <td>8</td>\n",
       "      <td>22</td>\n",
       "      <td>8</td>\n",
       "      <td>8</td>\n",
       "      <td>28</td>\n",
       "      <td>12</td>\n",
       "      <td>27</td>\n",
       "      <td>12</td>\n",
       "      <td>12</td>\n",
       "      <td>12</td>\n",
       "      <td>...</td>\n",
       "      <td>0</td>\n",
       "      <td>0</td>\n",
       "      <td>0</td>\n",
       "      <td>0</td>\n",
       "      <td>0</td>\n",
       "      <td>0</td>\n",
       "      <td>0</td>\n",
       "      <td>0</td>\n",
       "      <td>0</td>\n",
       "      <td>0</td>\n",
       "    </tr>\n",
       "    <tr>\n",
       "      <th>1</th>\n",
       "      <td>8</td>\n",
       "      <td>22</td>\n",
       "      <td>8</td>\n",
       "      <td>8</td>\n",
       "      <td>28</td>\n",
       "      <td>12</td>\n",
       "      <td>27</td>\n",
       "      <td>12</td>\n",
       "      <td>12</td>\n",
       "      <td>12</td>\n",
       "      <td>...</td>\n",
       "      <td>0</td>\n",
       "      <td>0</td>\n",
       "      <td>0</td>\n",
       "      <td>0</td>\n",
       "      <td>0</td>\n",
       "      <td>0</td>\n",
       "      <td>0</td>\n",
       "      <td>0</td>\n",
       "      <td>0</td>\n",
       "      <td>0</td>\n",
       "    </tr>\n",
       "    <tr>\n",
       "      <th>2</th>\n",
       "      <td>8</td>\n",
       "      <td>22</td>\n",
       "      <td>8</td>\n",
       "      <td>8</td>\n",
       "      <td>28</td>\n",
       "      <td>12</td>\n",
       "      <td>27</td>\n",
       "      <td>12</td>\n",
       "      <td>12</td>\n",
       "      <td>12</td>\n",
       "      <td>...</td>\n",
       "      <td>0</td>\n",
       "      <td>0</td>\n",
       "      <td>0</td>\n",
       "      <td>0</td>\n",
       "      <td>0</td>\n",
       "      <td>0</td>\n",
       "      <td>0</td>\n",
       "      <td>0</td>\n",
       "      <td>0</td>\n",
       "      <td>0</td>\n",
       "    </tr>\n",
       "  </tbody>\n",
       "</table>\n",
       "<p>3 rows × 145 columns</p>\n",
       "</div>"
      ],
      "text/plain": [
       "   enc0  enc1  enc2  enc3  enc4  enc5  enc6  enc7  enc8  enc9  ...  enc135  \\\n",
       "0     8    22     8     8    28    12    27    12    12    12  ...       0   \n",
       "1     8    22     8     8    28    12    27    12    12    12  ...       0   \n",
       "2     8    22     8     8    28    12    27    12    12    12  ...       0   \n",
       "\n",
       "   enc136  enc137  enc138  enc139  enc140  enc141  bind1  bind2  bind3  \n",
       "0       0       0       0       0       0       0      0      0      0  \n",
       "1       0       0       0       0       0       0      0      0      0  \n",
       "2       0       0       0       0       0       0      0      0      0  \n",
       "\n",
       "[3 rows x 145 columns]"
      ]
     },
     "execution_count": 8,
     "metadata": {},
     "output_type": "execute_result"
    }
   ],
   "source": [
    "print(\"Shape of Train set:\", train.shape)\n",
    "train.head(3)"
   ]
  },
  {
   "cell_type": "code",
   "execution_count": 9,
   "id": "8f928cda",
   "metadata": {
    "execution": {
     "iopub.execute_input": "2024-07-08T21:13:13.754086Z",
     "iopub.status.busy": "2024-07-08T21:13:13.753760Z",
     "iopub.status.idle": "2024-07-08T21:13:13.767159Z",
     "shell.execute_reply": "2024-07-08T21:13:13.766395Z"
    },
    "papermill": {
     "duration": 0.022622,
     "end_time": "2024-07-08T21:13:13.768948",
     "exception": false,
     "start_time": "2024-07-08T21:13:13.746326",
     "status": "completed"
    },
    "tags": []
   },
   "outputs": [
    {
     "name": "stdout",
     "output_type": "stream",
     "text": [
      "Shape of Test set: (1674896, 142)\n"
     ]
    },
    {
     "data": {
      "text/html": [
       "<div>\n",
       "<style scoped>\n",
       "    .dataframe tbody tr th:only-of-type {\n",
       "        vertical-align: middle;\n",
       "    }\n",
       "\n",
       "    .dataframe tbody tr th {\n",
       "        vertical-align: top;\n",
       "    }\n",
       "\n",
       "    .dataframe thead th {\n",
       "        text-align: right;\n",
       "    }\n",
       "</style>\n",
       "<table border=\"1\" class=\"dataframe\">\n",
       "  <thead>\n",
       "    <tr style=\"text-align: right;\">\n",
       "      <th></th>\n",
       "      <th>enc0</th>\n",
       "      <th>enc1</th>\n",
       "      <th>enc2</th>\n",
       "      <th>enc3</th>\n",
       "      <th>enc4</th>\n",
       "      <th>enc5</th>\n",
       "      <th>enc6</th>\n",
       "      <th>enc7</th>\n",
       "      <th>enc8</th>\n",
       "      <th>enc9</th>\n",
       "      <th>...</th>\n",
       "      <th>enc132</th>\n",
       "      <th>enc133</th>\n",
       "      <th>enc134</th>\n",
       "      <th>enc135</th>\n",
       "      <th>enc136</th>\n",
       "      <th>enc137</th>\n",
       "      <th>enc138</th>\n",
       "      <th>enc139</th>\n",
       "      <th>enc140</th>\n",
       "      <th>enc141</th>\n",
       "    </tr>\n",
       "  </thead>\n",
       "  <tbody>\n",
       "    <tr>\n",
       "      <th>0</th>\n",
       "      <td>8</td>\n",
       "      <td>22</td>\n",
       "      <td>8</td>\n",
       "      <td>8</td>\n",
       "      <td>8</td>\n",
       "      <td>8</td>\n",
       "      <td>29</td>\n",
       "      <td>8</td>\n",
       "      <td>3</td>\n",
       "      <td>5</td>\n",
       "      <td>...</td>\n",
       "      <td>0</td>\n",
       "      <td>0</td>\n",
       "      <td>0</td>\n",
       "      <td>0</td>\n",
       "      <td>0</td>\n",
       "      <td>0</td>\n",
       "      <td>0</td>\n",
       "      <td>0</td>\n",
       "      <td>0</td>\n",
       "      <td>0</td>\n",
       "    </tr>\n",
       "    <tr>\n",
       "      <th>1</th>\n",
       "      <td>8</td>\n",
       "      <td>22</td>\n",
       "      <td>8</td>\n",
       "      <td>8</td>\n",
       "      <td>8</td>\n",
       "      <td>8</td>\n",
       "      <td>29</td>\n",
       "      <td>8</td>\n",
       "      <td>3</td>\n",
       "      <td>5</td>\n",
       "      <td>...</td>\n",
       "      <td>0</td>\n",
       "      <td>0</td>\n",
       "      <td>0</td>\n",
       "      <td>0</td>\n",
       "      <td>0</td>\n",
       "      <td>0</td>\n",
       "      <td>0</td>\n",
       "      <td>0</td>\n",
       "      <td>0</td>\n",
       "      <td>0</td>\n",
       "    </tr>\n",
       "    <tr>\n",
       "      <th>2</th>\n",
       "      <td>8</td>\n",
       "      <td>22</td>\n",
       "      <td>8</td>\n",
       "      <td>8</td>\n",
       "      <td>8</td>\n",
       "      <td>8</td>\n",
       "      <td>29</td>\n",
       "      <td>8</td>\n",
       "      <td>3</td>\n",
       "      <td>5</td>\n",
       "      <td>...</td>\n",
       "      <td>0</td>\n",
       "      <td>0</td>\n",
       "      <td>0</td>\n",
       "      <td>0</td>\n",
       "      <td>0</td>\n",
       "      <td>0</td>\n",
       "      <td>0</td>\n",
       "      <td>0</td>\n",
       "      <td>0</td>\n",
       "      <td>0</td>\n",
       "    </tr>\n",
       "  </tbody>\n",
       "</table>\n",
       "<p>3 rows × 142 columns</p>\n",
       "</div>"
      ],
      "text/plain": [
       "   enc0  enc1  enc2  enc3  enc4  enc5  enc6  enc7  enc8  enc9  ...  enc132  \\\n",
       "0     8    22     8     8     8     8    29     8     3     5  ...       0   \n",
       "1     8    22     8     8     8     8    29     8     3     5  ...       0   \n",
       "2     8    22     8     8     8     8    29     8     3     5  ...       0   \n",
       "\n",
       "   enc133  enc134  enc135  enc136  enc137  enc138  enc139  enc140  enc141  \n",
       "0       0       0       0       0       0       0       0       0       0  \n",
       "1       0       0       0       0       0       0       0       0       0  \n",
       "2       0       0       0       0       0       0       0       0       0  \n",
       "\n",
       "[3 rows x 142 columns]"
      ]
     },
     "execution_count": 9,
     "metadata": {},
     "output_type": "execute_result"
    }
   ],
   "source": [
    "print(\"Shape of Test set:\", test.shape)\n",
    "test.head(3)"
   ]
  },
  {
   "cell_type": "markdown",
   "id": "188aa015",
   "metadata": {
    "papermill": {
     "duration": 0.006555,
     "end_time": "2024-07-08T21:13:13.782364",
     "exception": false,
     "start_time": "2024-07-08T21:13:13.775809",
     "status": "completed"
    },
    "tags": []
   },
   "source": [
    "# Modeling"
   ]
  },
  {
   "cell_type": "code",
   "execution_count": 10,
   "id": "a2c6db81",
   "metadata": {
    "execution": {
     "iopub.execute_input": "2024-07-08T21:13:13.798173Z",
     "iopub.status.busy": "2024-07-08T21:13:13.797837Z",
     "iopub.status.idle": "2024-07-08T21:13:13.808774Z",
     "shell.execute_reply": "2024-07-08T21:13:13.808059Z"
    },
    "papermill": {
     "duration": 0.020814,
     "end_time": "2024-07-08T21:13:13.810610",
     "exception": false,
     "start_time": "2024-07-08T21:13:13.789796",
     "status": "completed"
    },
    "tags": []
   },
   "outputs": [],
   "source": [
    "# 1D-CNN model\n",
    "def OneDCNN_model():\n",
    "    with strategy.scope():\n",
    "        INP_LEN = 142\n",
    "        NUM_FILTERS = 32\n",
    "        hidden_dim = 128\n",
    "\n",
    "        inputs = tf.keras.layers.Input(shape=(INP_LEN,), dtype='int32')\n",
    "        x = tf.keras.layers.Embedding(input_dim=36, output_dim=hidden_dim, input_length=INP_LEN, mask_zero = True)(inputs)\n",
    "        x = tf.keras.layers.Conv1D(filters=NUM_FILTERS, kernel_size=3,  activation='relu', padding='valid',  strides=1)(x)\n",
    "        x = tf.keras.layers.Conv1D(filters=NUM_FILTERS*2, kernel_size=3,  activation='relu', padding='valid',  strides=1)(x)\n",
    "        x = tf.keras.layers.Conv1D(filters=NUM_FILTERS*3, kernel_size=3,  activation='relu', padding='valid',  strides=1)(x)\n",
    "        x = tf.keras.layers.GlobalMaxPooling1D()(x)\n",
    "\n",
    "        x = tf.keras.layers.Dense(1024, activation='relu')(x)\n",
    "        x = tf.keras.layers.Dropout(0.1)(x)\n",
    "        x = tf.keras.layers.Dense(1024, activation='relu')(x)\n",
    "        x = tf.keras.layers.Dropout(0.1)(x)\n",
    "        x = tf.keras.layers.Dense(512, activation='relu')(x)\n",
    "        x = tf.keras.layers.Dropout(0.1)(x)\n",
    "\n",
    "        outputs = tf.keras.layers.Dense(3, activation='sigmoid')(x)\n",
    "\n",
    "        model = tf.keras.models.Model(inputs = inputs, outputs = outputs)\n",
    "        optimizer = tf.keras.optimizers.Adam(learning_rate=CFG.LR, weight_decay = CFG.WD)\n",
    "        loss = 'binary_crossentropy'\n",
    "        weighted_metrics = [tf.keras.metrics.AUC(curve='PR', name = 'avg_precision')]\n",
    "        model.compile(\n",
    "        loss=loss,\n",
    "        optimizer=optimizer,\n",
    "        weighted_metrics=weighted_metrics,\n",
    "        )\n",
    "        return model"
   ]
  },
  {
   "cell_type": "markdown",
   "id": "2d57f65c",
   "metadata": {
    "papermill": {
     "duration": 0.006502,
     "end_time": "2024-07-08T21:13:13.824003",
     "exception": false,
     "start_time": "2024-07-08T21:13:13.817501",
     "status": "completed"
    },
    "tags": []
   },
   "source": [
    "# Train"
   ]
  },
  {
   "cell_type": "code",
   "execution_count": 11,
   "id": "be19a18e",
   "metadata": {
    "execution": {
     "iopub.execute_input": "2024-07-08T21:13:13.839351Z",
     "iopub.status.busy": "2024-07-08T21:13:13.839107Z",
     "iopub.status.idle": "2024-07-08T21:13:13.856604Z",
     "shell.execute_reply": "2024-07-08T21:13:13.855903Z"
    },
    "papermill": {
     "duration": 0.02737,
     "end_time": "2024-07-08T21:13:13.858499",
     "exception": false,
     "start_time": "2024-07-08T21:13:13.831129",
     "status": "completed"
    },
    "tags": []
   },
   "outputs": [
    {
     "name": "stdout",
     "output_type": "stream",
     "text": [
      "CPU times: user 0 ns, sys: 41 µs, total: 41 µs\n",
      "Wall time: 80.3 µs\n",
      "Model Pretrained. Skip Training process.\n"
     ]
    }
   ],
   "source": [
    "%time\n",
    "FEATURES = [f'enc{i}' for i in range(142)] # The first 142 encoded columns as features\n",
    "TARGETS = ['bind1', 'bind2', 'bind3'] # Three types of binds as targets\n",
    "skf = StratifiedKFold(n_splits = CFG.NBR_FOLDS, shuffle = True, random_state = 42) \n",
    "                                                                                    \n",
    "if CFG.PRETRAINED:\n",
    "    print(\"Model Pretrained. Skip Training process.\")\n",
    "else:\n",
    "    for fold,(train_idx, valid_idx) in enumerate(skf.split(train, train[TARGETS].sum(1))):\n",
    "        if fold in CFG.SELECTED_FOLDS:\n",
    "            print(f\"Working on fold {fold}\")\n",
    "            X_train = train.loc[train_idx, FEATURES]\n",
    "            y_train = train.loc[train_idx, TARGETS]\n",
    "            X_val = train.loc[valid_idx, FEATURES]\n",
    "            y_val = train.loc[valid_idx, TARGETS]\n",
    "\n",
    "            es = tf.keras.callbacks.EarlyStopping(patience=5, monitor=\"val_loss\", mode='min', verbose=1)\n",
    "            checkpoint = tf.keras.callbacks.ModelCheckpoint(monitor='val_loss', filepath=f\"model-{fold}.h5\",\n",
    "                                                                save_best_only=True, save_weights_only=True,\n",
    "                                                            mode='min')\n",
    "            reduce_lr_loss = tf.keras.callbacks.ReduceLROnPlateau(monitor='val_loss', factor=0.05, patience=5, verbose=1)\n",
    "            model = OneDCNN_model()\n",
    "            history = model.fit(\n",
    "                X_train, y_train,\n",
    "                validation_data=(X_val, y_val),\n",
    "                epochs=CFG.EPOCHS,\n",
    "                callbacks=[checkpoint, reduce_lr_loss, es],\n",
    "                batch_size=CFG.BATCH_SIZE,\n",
    "                verbose=1,\n",
    "            )\n",
    "            train_loss = history.history['loss']\n",
    "            val_loss = history.history.get('val_loss', [])  # Use get to avoid errors if validation loss is not available\n",
    "\n",
    "            train_prec = history.history['avg_precision']\n",
    "            val_prec = history.history.get('val_avg_precision', [])  # Similarly for validation accuracy\n",
    "            plt.figure(figsize=(12, 6))\n",
    "\n",
    "            plt.subplot(1, 2, 1)\n",
    "            plt.plot(train_loss, label='Train')\n",
    "            if val_loss:\n",
    "                plt.plot(val_loss, label='Validation')\n",
    "            plt.title('Model Loss')\n",
    "            plt.ylabel('Loss')\n",
    "            plt.xlabel('Epoch')\n",
    "            plt.legend(loc='upper right')\n",
    "\n",
    "            # Plot training & validation accuracy values\n",
    "            plt.subplot(1, 2, 2)\n",
    "            plt.plot(train_prec, label='Train')\n",
    "            if val_prec:\n",
    "                plt.plot(val_prec, label='Validation')\n",
    "            plt.title('Model Accuracy')\n",
    "            plt.ylabel('Accuracy')\n",
    "            plt.xlabel('Epoch')\n",
    "            plt.legend(loc='lower right')\n",
    "\n",
    "            plt.tight_layout()\n",
    "            plt.show()\n"
   ]
  },
  {
   "cell_type": "markdown",
   "id": "e9c3d743",
   "metadata": {
    "papermill": {
     "duration": 0.006051,
     "end_time": "2024-07-08T21:13:13.870410",
     "exception": false,
     "start_time": "2024-07-08T21:13:13.864359",
     "status": "completed"
    },
    "tags": []
   },
   "source": [
    "# Inference"
   ]
  },
  {
   "cell_type": "code",
   "execution_count": 12,
   "id": "048ef795",
   "metadata": {
    "execution": {
     "iopub.execute_input": "2024-07-08T21:13:13.883860Z",
     "iopub.status.busy": "2024-07-08T21:13:13.883617Z",
     "iopub.status.idle": "2024-07-08T21:15:10.069490Z",
     "shell.execute_reply": "2024-07-08T21:15:10.068523Z"
    },
    "papermill": {
     "duration": 116.195222,
     "end_time": "2024-07-08T21:15:10.071961",
     "exception": false,
     "start_time": "2024-07-08T21:13:13.876739",
     "status": "completed"
    },
    "tags": []
   },
   "outputs": [
    {
     "name": "stdout",
     "output_type": "stream",
     "text": [
      "loading weight model-15.h5\n"
     ]
    },
    {
     "name": "stderr",
     "output_type": "stream",
     "text": [
      "2024-07-08 21:13:19.678312: E tensorflow/core/grappler/optimizers/meta_optimizer.cc:954] model_pruner failed: INVALID_ARGUMENT: Graph does not contain terminal node AssignAddVariableOp.\n",
      "2024-07-08 21:13:19.744997: E tensorflow/core/grappler/optimizers/meta_optimizer.cc:954] model_pruner failed: INVALID_ARGUMENT: Graph does not contain terminal node AssignAddVariableOp.\n"
     ]
    },
    {
     "name": "stdout",
     "output_type": "stream",
     "text": [
      "205/205 [==============================] - 6s 17ms/step\n",
      "loading weight model-16.h5\n"
     ]
    },
    {
     "name": "stderr",
     "output_type": "stream",
     "text": [
      "2024-07-08 21:13:27.143779: E tensorflow/core/grappler/optimizers/meta_optimizer.cc:954] model_pruner failed: INVALID_ARGUMENT: Graph does not contain terminal node AssignAddVariableOp.\n",
      "2024-07-08 21:13:27.210178: E tensorflow/core/grappler/optimizers/meta_optimizer.cc:954] model_pruner failed: INVALID_ARGUMENT: Graph does not contain terminal node AssignAddVariableOp.\n"
     ]
    },
    {
     "name": "stdout",
     "output_type": "stream",
     "text": [
      "205/205 [==============================] - 6s 17ms/step\n",
      "loading weight model-17.h5\n"
     ]
    },
    {
     "name": "stderr",
     "output_type": "stream",
     "text": [
      "2024-07-08 21:13:34.674187: E tensorflow/core/grappler/optimizers/meta_optimizer.cc:954] model_pruner failed: INVALID_ARGUMENT: Graph does not contain terminal node AssignAddVariableOp.\n",
      "2024-07-08 21:13:34.741666: E tensorflow/core/grappler/optimizers/meta_optimizer.cc:954] model_pruner failed: INVALID_ARGUMENT: Graph does not contain terminal node AssignAddVariableOp.\n"
     ]
    },
    {
     "name": "stdout",
     "output_type": "stream",
     "text": [
      "205/205 [==============================] - 6s 17ms/step\n",
      "loading weight model-18.h5\n"
     ]
    },
    {
     "name": "stderr",
     "output_type": "stream",
     "text": [
      "2024-07-08 21:13:42.158742: E tensorflow/core/grappler/optimizers/meta_optimizer.cc:954] model_pruner failed: INVALID_ARGUMENT: Graph does not contain terminal node AssignAddVariableOp.\n",
      "2024-07-08 21:13:42.223552: E tensorflow/core/grappler/optimizers/meta_optimizer.cc:954] model_pruner failed: INVALID_ARGUMENT: Graph does not contain terminal node AssignAddVariableOp.\n"
     ]
    },
    {
     "name": "stdout",
     "output_type": "stream",
     "text": [
      "205/205 [==============================] - 6s 16ms/step\n",
      "loading weight model-19.h5\n"
     ]
    },
    {
     "name": "stderr",
     "output_type": "stream",
     "text": [
      "2024-07-08 21:13:49.593913: E tensorflow/core/grappler/optimizers/meta_optimizer.cc:954] model_pruner failed: INVALID_ARGUMENT: Graph does not contain terminal node AssignAddVariableOp.\n",
      "2024-07-08 21:13:49.660859: E tensorflow/core/grappler/optimizers/meta_optimizer.cc:954] model_pruner failed: INVALID_ARGUMENT: Graph does not contain terminal node AssignAddVariableOp.\n"
     ]
    },
    {
     "name": "stdout",
     "output_type": "stream",
     "text": [
      "205/205 [==============================] - 6s 16ms/step\n",
      "loading weight model-20.h5\n"
     ]
    },
    {
     "name": "stderr",
     "output_type": "stream",
     "text": [
      "2024-07-08 21:13:56.924284: E tensorflow/core/grappler/optimizers/meta_optimizer.cc:954] model_pruner failed: INVALID_ARGUMENT: Graph does not contain terminal node AssignAddVariableOp.\n",
      "2024-07-08 21:13:56.990796: E tensorflow/core/grappler/optimizers/meta_optimizer.cc:954] model_pruner failed: INVALID_ARGUMENT: Graph does not contain terminal node AssignAddVariableOp.\n"
     ]
    },
    {
     "name": "stdout",
     "output_type": "stream",
     "text": [
      "205/205 [==============================] - 6s 16ms/step\n",
      "loading weight model-21.h5\n"
     ]
    },
    {
     "name": "stderr",
     "output_type": "stream",
     "text": [
      "2024-07-08 21:14:04.882482: E tensorflow/core/grappler/optimizers/meta_optimizer.cc:954] model_pruner failed: INVALID_ARGUMENT: Graph does not contain terminal node AssignAddVariableOp.\n",
      "2024-07-08 21:14:04.955545: E tensorflow/core/grappler/optimizers/meta_optimizer.cc:954] model_pruner failed: INVALID_ARGUMENT: Graph does not contain terminal node AssignAddVariableOp.\n"
     ]
    },
    {
     "name": "stdout",
     "output_type": "stream",
     "text": [
      "205/205 [==============================] - 7s 16ms/step\n",
      "loading weight model-22.h5\n"
     ]
    },
    {
     "name": "stderr",
     "output_type": "stream",
     "text": [
      "2024-07-08 21:14:12.339451: E tensorflow/core/grappler/optimizers/meta_optimizer.cc:954] model_pruner failed: INVALID_ARGUMENT: Graph does not contain terminal node AssignAddVariableOp.\n",
      "2024-07-08 21:14:12.406935: E tensorflow/core/grappler/optimizers/meta_optimizer.cc:954] model_pruner failed: INVALID_ARGUMENT: Graph does not contain terminal node AssignAddVariableOp.\n"
     ]
    },
    {
     "name": "stdout",
     "output_type": "stream",
     "text": [
      "205/205 [==============================] - 6s 17ms/step\n",
      "loading weight model-23.h5\n"
     ]
    },
    {
     "name": "stderr",
     "output_type": "stream",
     "text": [
      "2024-07-08 21:14:19.742327: E tensorflow/core/grappler/optimizers/meta_optimizer.cc:954] model_pruner failed: INVALID_ARGUMENT: Graph does not contain terminal node AssignAddVariableOp.\n",
      "2024-07-08 21:14:19.811454: E tensorflow/core/grappler/optimizers/meta_optimizer.cc:954] model_pruner failed: INVALID_ARGUMENT: Graph does not contain terminal node AssignAddVariableOp.\n"
     ]
    },
    {
     "name": "stdout",
     "output_type": "stream",
     "text": [
      "205/205 [==============================] - 6s 17ms/step\n",
      "loading weight model-24.h5\n"
     ]
    },
    {
     "name": "stderr",
     "output_type": "stream",
     "text": [
      "2024-07-08 21:14:27.052302: E tensorflow/core/grappler/optimizers/meta_optimizer.cc:954] model_pruner failed: INVALID_ARGUMENT: Graph does not contain terminal node AssignAddVariableOp.\n",
      "2024-07-08 21:14:27.117805: E tensorflow/core/grappler/optimizers/meta_optimizer.cc:954] model_pruner failed: INVALID_ARGUMENT: Graph does not contain terminal node AssignAddVariableOp.\n"
     ]
    },
    {
     "name": "stdout",
     "output_type": "stream",
     "text": [
      "205/205 [==============================] - 6s 16ms/step\n",
      "loading weight model-25.h5\n"
     ]
    },
    {
     "name": "stderr",
     "output_type": "stream",
     "text": [
      "2024-07-08 21:14:34.375604: E tensorflow/core/grappler/optimizers/meta_optimizer.cc:954] model_pruner failed: INVALID_ARGUMENT: Graph does not contain terminal node AssignAddVariableOp.\n",
      "2024-07-08 21:14:34.446699: E tensorflow/core/grappler/optimizers/meta_optimizer.cc:954] model_pruner failed: INVALID_ARGUMENT: Graph does not contain terminal node AssignAddVariableOp.\n"
     ]
    },
    {
     "name": "stdout",
     "output_type": "stream",
     "text": [
      "205/205 [==============================] - 6s 17ms/step\n",
      "loading weight model-26.h5\n"
     ]
    },
    {
     "name": "stderr",
     "output_type": "stream",
     "text": [
      "2024-07-08 21:14:42.050240: E tensorflow/core/grappler/optimizers/meta_optimizer.cc:954] model_pruner failed: INVALID_ARGUMENT: Graph does not contain terminal node AssignAddVariableOp.\n",
      "2024-07-08 21:14:42.115843: E tensorflow/core/grappler/optimizers/meta_optimizer.cc:954] model_pruner failed: INVALID_ARGUMENT: Graph does not contain terminal node AssignAddVariableOp.\n"
     ]
    },
    {
     "name": "stdout",
     "output_type": "stream",
     "text": [
      "205/205 [==============================] - 6s 17ms/step\n",
      "loading weight model-27.h5\n"
     ]
    },
    {
     "name": "stderr",
     "output_type": "stream",
     "text": [
      "2024-07-08 21:14:49.480050: E tensorflow/core/grappler/optimizers/meta_optimizer.cc:954] model_pruner failed: INVALID_ARGUMENT: Graph does not contain terminal node AssignAddVariableOp.\n",
      "2024-07-08 21:14:49.545836: E tensorflow/core/grappler/optimizers/meta_optimizer.cc:954] model_pruner failed: INVALID_ARGUMENT: Graph does not contain terminal node AssignAddVariableOp.\n"
     ]
    },
    {
     "name": "stdout",
     "output_type": "stream",
     "text": [
      "205/205 [==============================] - 6s 17ms/step\n",
      "loading weight model-28.h5\n"
     ]
    },
    {
     "name": "stderr",
     "output_type": "stream",
     "text": [
      "2024-07-08 21:14:57.449195: E tensorflow/core/grappler/optimizers/meta_optimizer.cc:954] model_pruner failed: INVALID_ARGUMENT: Graph does not contain terminal node AssignAddVariableOp.\n",
      "2024-07-08 21:14:57.525487: E tensorflow/core/grappler/optimizers/meta_optimizer.cc:954] model_pruner failed: INVALID_ARGUMENT: Graph does not contain terminal node AssignAddVariableOp.\n"
     ]
    },
    {
     "name": "stdout",
     "output_type": "stream",
     "text": [
      "205/205 [==============================] - 7s 16ms/step\n",
      "loading weight model-29.h5\n"
     ]
    },
    {
     "name": "stderr",
     "output_type": "stream",
     "text": [
      "2024-07-08 21:15:04.941176: E tensorflow/core/grappler/optimizers/meta_optimizer.cc:954] model_pruner failed: INVALID_ARGUMENT: Graph does not contain terminal node AssignAddVariableOp.\n",
      "2024-07-08 21:15:05.011664: E tensorflow/core/grappler/optimizers/meta_optimizer.cc:954] model_pruner failed: INVALID_ARGUMENT: Graph does not contain terminal node AssignAddVariableOp.\n"
     ]
    },
    {
     "name": "stdout",
     "output_type": "stream",
     "text": [
      "205/205 [==============================] - 6s 16ms/step\n"
     ]
    }
   ],
   "source": [
    "all_preds = []\n",
    "if CFG.PRETRAINED:\n",
    "    for fold in CFG.EXIST_MODELS:\n",
    "        model = OneDCNN_model()\n",
    "        print(f\"loading weight model-{fold}.h5\")\n",
    "        model.load_weights(f\"/kaggle/input/1dcnn-models-for-belka-competition/model-{fold}.h5\")\n",
    "        preds = model.predict(test, batch_size = 2*CFG.BATCH_SIZE)\n",
    "        all_preds.append(preds)\n",
    "else:\n",
    "    for fold in CFG.SELECTED_FOLDS:\n",
    "        model = OneDCNN_model()\n",
    "        print(f\"loading weight model-{fold}.h5\")\n",
    "        model.load_weights(f\"model-{fold}.h5\")\n",
    "        preds = model.predict(test, batch_size = 2*CFG.BATCH_SIZE)\n",
    "        all_preds.append(preds)\n",
    "preds = np.mean(all_preds, 0)"
   ]
  },
  {
   "cell_type": "code",
   "execution_count": 13,
   "id": "72819b6c",
   "metadata": {
    "execution": {
     "iopub.execute_input": "2024-07-08T21:15:10.139782Z",
     "iopub.status.busy": "2024-07-08T21:15:10.139490Z",
     "iopub.status.idle": "2024-07-08T21:15:10.143962Z",
     "shell.execute_reply": "2024-07-08T21:15:10.143141Z"
    },
    "papermill": {
     "duration": 0.039811,
     "end_time": "2024-07-08T21:15:10.145654",
     "exception": false,
     "start_time": "2024-07-08T21:15:10.105843",
     "status": "completed"
    },
    "tags": []
   },
   "outputs": [
    {
     "name": "stdout",
     "output_type": "stream",
     "text": [
      "Shape of Predictions: 1674896 * 3\n"
     ]
    }
   ],
   "source": [
    "print(f\"Shape of Predictions: {len(preds)} * {len(preds[0])}\")"
   ]
  },
  {
   "cell_type": "markdown",
   "id": "e5fa5262",
   "metadata": {
    "papermill": {
     "duration": 0.033034,
     "end_time": "2024-07-08T21:15:10.210886",
     "exception": false,
     "start_time": "2024-07-08T21:15:10.177852",
     "status": "completed"
    },
    "tags": []
   },
   "source": [
    "# Plot"
   ]
  },
  {
   "cell_type": "code",
   "execution_count": 14,
   "id": "417d9bc8",
   "metadata": {
    "execution": {
     "iopub.execute_input": "2024-07-08T21:15:10.287345Z",
     "iopub.status.busy": "2024-07-08T21:15:10.286494Z",
     "iopub.status.idle": "2024-07-08T21:15:10.295060Z",
     "shell.execute_reply": "2024-07-08T21:15:10.294254Z"
    },
    "papermill": {
     "duration": 0.050001,
     "end_time": "2024-07-08T21:15:10.296916",
     "exception": false,
     "start_time": "2024-07-08T21:15:10.246915",
     "status": "completed"
    },
    "tags": []
   },
   "outputs": [
    {
     "name": "stdout",
     "output_type": "stream",
     "text": [
      "Pretrained -> no plot\n"
     ]
    }
   ],
   "source": [
    "\n",
    "# Assuming 'history' is the object returned from model.fit()\n",
    "if CFG.PRETRAINED:\n",
    "    print(\"Pretrained -> no plot\")\n",
    "else:\n",
    "    train_loss = history.history['loss']\n",
    "    val_loss = history.history.get('val_loss', [])  # Use get to avoid errors if validation loss is not available\n",
    "\n",
    "    train_prec = history.history['avg_precision']\n",
    "    val_prec = history.history.get('val_avg_precision', [])  # Similarly for validation accuracy\n",
    "    plt.figure(figsize=(12, 6))\n",
    "\n",
    "    plt.subplot(1, 2, 1)\n",
    "    plt.plot(train_loss, label='Train')\n",
    "    if val_loss:\n",
    "        plt.plot(val_loss, label='Validation')\n",
    "    plt.title('Model Loss')\n",
    "    plt.ylabel('Loss')\n",
    "    plt.xlabel('Epoch')\n",
    "    plt.legend(loc='upper right')\n",
    "\n",
    "    # Plot training & validation accuracy values\n",
    "    plt.subplot(1, 2, 2)\n",
    "    plt.plot(train_prec, label='Train')\n",
    "    if val_prec:\n",
    "        plt.plot(val_prec, label='Validation')\n",
    "    plt.title('Model Accuracy')\n",
    "    plt.ylabel('Accuracy')\n",
    "    plt.xlabel('Epoch')\n",
    "    plt.legend(loc='lower right')\n",
    "\n",
    "    plt.tight_layout()\n",
    "    plt.show()"
   ]
  },
  {
   "cell_type": "markdown",
   "id": "64254a15",
   "metadata": {
    "papermill": {
     "duration": 0.034661,
     "end_time": "2024-07-08T21:15:10.368516",
     "exception": false,
     "start_time": "2024-07-08T21:15:10.333855",
     "status": "completed"
    },
    "tags": []
   },
   "source": [
    "# Submission"
   ]
  },
  {
   "cell_type": "code",
   "execution_count": 15,
   "id": "49cfd0b1",
   "metadata": {
    "execution": {
     "iopub.execute_input": "2024-07-08T21:15:10.436179Z",
     "iopub.status.busy": "2024-07-08T21:15:10.435489Z",
     "iopub.status.idle": "2024-07-08T21:15:17.047353Z",
     "shell.execute_reply": "2024-07-08T21:15:17.046246Z"
    },
    "papermill": {
     "duration": 6.648421,
     "end_time": "2024-07-08T21:15:17.049804",
     "exception": false,
     "start_time": "2024-07-08T21:15:10.401383",
     "status": "completed"
    },
    "tags": []
   },
   "outputs": [],
   "source": [
    "tst = pd.read_parquet('/kaggle/input/leash-BELKA/test.parquet')\n",
    "tst['binds'] = 0\n",
    "tst.loc[tst['protein_name']=='BRD4', 'binds'] = preds[(tst['protein_name']=='BRD4').values, 0]\n",
    "tst.loc[tst['protein_name']=='HSA', 'binds'] = preds[(tst['protein_name']=='HSA').values, 1]\n",
    "tst.loc[tst['protein_name']=='sEH', 'binds'] = preds[(tst['protein_name']=='sEH').values, 2]\n",
    "tst[['id', 'binds']].to_csv('submission.csv', index = False)"
   ]
  },
  {
   "cell_type": "code",
   "execution_count": null,
   "id": "02b96ac4",
   "metadata": {
    "papermill": {
     "duration": 0.044039,
     "end_time": "2024-07-08T21:15:17.130361",
     "exception": false,
     "start_time": "2024-07-08T21:15:17.086322",
     "status": "completed"
    },
    "tags": []
   },
   "outputs": [],
   "source": []
  }
 ],
 "metadata": {
  "kaggle": {
   "accelerator": "tpu1vmV38",
   "dataSources": [
    {
     "databundleVersionId": 8006601,
     "sourceId": 67356,
     "sourceType": "competition"
    },
    {
     "datasetId": 4914065,
     "sourceId": 8275617,
     "sourceType": "datasetVersion"
    },
    {
     "datasetId": 5214038,
     "sourceId": 8819963,
     "sourceType": "datasetVersion"
    }
   ],
   "dockerImageVersionId": 30514,
   "isGpuEnabled": false,
   "isInternetEnabled": true,
   "language": "python",
   "sourceType": "notebook"
  },
  "kernelspec": {
   "display_name": "Python 3",
   "language": "python",
   "name": "python3"
  },
  "language_info": {
   "codemirror_mode": {
    "name": "ipython",
    "version": 3
   },
   "file_extension": ".py",
   "mimetype": "text/x-python",
   "name": "python",
   "nbconvert_exporter": "python",
   "pygments_lexer": "ipython3",
   "version": "3.8.17"
  },
  "papermill": {
   "default_parameters": {},
   "duration": 294.541315,
   "end_time": "2024-07-08T21:15:21.012426",
   "environment_variables": {},
   "exception": null,
   "input_path": "__notebook__.ipynb",
   "output_path": "__notebook__.ipynb",
   "parameters": {},
   "start_time": "2024-07-08T21:10:26.471111",
   "version": "2.4.0"
  }
 },
 "nbformat": 4,
 "nbformat_minor": 5
}
